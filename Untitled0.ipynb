{
  "nbformat": 4,
  "nbformat_minor": 0,
  "metadata": {
    "colab": {
      "provenance": []
    },
    "kernelspec": {
      "name": "python3",
      "display_name": "Python 3"
    },
    "language_info": {
      "name": "python"
    }
  },
  "cells": [
    {
      "cell_type": "markdown",
      "source": [
        "# **How to easily send emails from Gmail using Python**"
      ],
      "metadata": {
        "id": "dGPe7ns_gZP0"
      }
    },
    {
      "cell_type": "markdown",
      "source": [
        "I needed this feature to be able to fullfil a requirement of a larger project I was in the middle of.\n",
        "\n",
        "So I started searching a way and I found that it was quite tricky and it was explained in a very confusing way by Google's documentation, I ended up doing stuff far more complicated than what I actually needed to do to be able to send an email from a gmail account using Python.\n",
        "\n",
        "So I decided to do a quick and concise guide for future needs and also it has the educational purpose if someone is need.\n",
        "\n"
      ],
      "metadata": {
        "id": "qw5Dl46Bgihc"
      }
    },
    {
      "cell_type": "markdown",
      "source": [
        "## **Steps**"
      ],
      "metadata": {
        "id": "_BYc2zlwhYyr"
      }
    },
    {
      "cell_type": "markdown",
      "source": [
        "1. Open up a brand new browser window and log in into the google's account you want to send your email from.\n",
        "2. Click in your profile pic and then click in 'Manage your Google's Account'\n",
        "3. Then at the menu on the top left click on Security.\n",
        "4. Scroll down a bit and you will find an option: '2-Step Verification'\n",
        "   If this option shows 'Off', you need to activate it:\n",
        "\n",
        "   Click on the option, it'll redirect to another process, just enter your mobile phone, call or send you a text message and enter the code provided.\n",
        "\n",
        "  Make sure this option now shows 'On'\n",
        "\n",
        "5. Finish the process, go back to your main browser screen and type in the url searcher this url:\n",
        "\n",
        "   https://myaccount.google.com/apppasswords\n",
        "\n",
        "   This will redirect you to another google process, log in into your gmail account.\n",
        "\n",
        "   It'll redirect you to this screen:\n",
        "\n",
        "   Type in an App name, it can be whatever you want it to be, and click in create.\n",
        "\n",
        "   This will pop-up a screen where you'll be given an image with a 16 character password, save somewhere this 16 characters, this will be your password to connect to your gmail account using Python.\n",
        "   The image will be provided with spaces every 4 letters, remove those spaces and save the password, your password will have 16 characters.\n",
        "\n",
        "6. You are already set to send emails from your gmail account using Python scripts. Now I'll provide a Python script where you simply have to fill in variable fields and you just need to execute it."
      ],
      "metadata": {
        "id": "EJlkUi1Ghcm4"
      }
    },
    {
      "cell_type": "markdown",
      "source": [
        "You won't need to install any packages all libraries used are included in the Python built-in library"
      ],
      "metadata": {
        "id": "FjO2KC4flC3r"
      }
    },
    {
      "cell_type": "code",
      "execution_count": null,
      "metadata": {
        "id": "o1vvNkXKgYYa"
      },
      "outputs": [],
      "source": [
        "import os\n",
        "import ssl\n",
        "from email.message import EmailMessage\n",
        "import smtplib\n",
        "\n",
        "# Substitute for the account you have just configurated\n",
        "# to be able to send e-mails using Python\n",
        "email_sender = 'email@gmail.com'\n",
        "# The password you were provided with at step 5\n",
        "email_password = 'mmgrrargyemvatpf'\n",
        "# Whoever you want to send the email to\n",
        "email_receiver='zetag33@gmail.com'\n",
        "# Subject of your email\n",
        "subject = 'Check out'\n",
        "# Body of your email\n",
        "body = '''Just posted a new video'''\n",
        "\n",
        "#Instantiate email object\n",
        "em = EmailMessage()\n",
        "# Set the sender\n",
        "em['From'] = email_sender\n",
        "# Set the receiver\n",
        "em['To'] = email_receiver\n",
        "# Set the subject\n",
        "em['Subject'] = subject\n",
        "# Set the body\n",
        "em.set_content(body)\n",
        "# Security layer\n",
        "context = ssl.create_default_context()\n",
        "\n",
        "with smtplib.SMTP_SSL('smtp.gmail.com',465,context=context) as smtp:\n",
        "    smtp.login(email_sender, email_password) # Login into your account\n",
        "    smtp.sendmail(email_sender, email_receiver, em.as_string()) # Fill email"
      ]
    },
    {
      "cell_type": "markdown",
      "source": [
        "Gmail provides much more complicated features, we can attach files, images,\n",
        "etc.. I leave that to your curiosity"
      ],
      "metadata": {
        "id": "ZykGRvCrmBtC"
      }
    }
  ]
}